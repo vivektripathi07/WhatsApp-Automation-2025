{
 "cells": [
  {
   "cell_type": "code",
   "execution_count": 1,
   "metadata": {},
   "outputs": [],
   "source": [
    "import selenium\n",
    "import time\n",
    "import pandas as pd\n",
    "from selenium import webdriver\n",
    "from selenium.webdriver.common.by import By\n",
    "from selenium.webdriver.chrome.service import Service\n",
    "from selenium.webdriver.chrome.options import Options\n",
    "from webdriver_manager.chrome import ChromeDriverManager\n"
   ]
  },
  {
   "cell_type": "code",
   "execution_count": 2,
   "metadata": {},
   "outputs": [],
   "source": [
    "csv_file = \"contacts.csv\"  # Ensure this file contains 'phone' and 'message' columns\n",
    "df = pd.read_csv(csv_file)"
   ]
  },
  {
   "cell_type": "code",
   "execution_count": 3,
   "metadata": {},
   "outputs": [
    {
     "name": "stdout",
     "output_type": "stream",
     "text": [
      "✅ Scan QR code and press Enter once logged in.\n",
      "Message sent to +91 7008680584\n",
      "Message sent to +91 8619299156\n"
     ]
    }
   ],
   "source": [
    "message = \"Hello! This is an automated message. Hope you're doing well!\"\n",
    "\n",
    "service = Service(ChromeDriverManager().install())\n",
    "\n",
    "\n",
    "chrome_options = Options()\n",
    "chrome_options.add_argument(\"--user-data-dir=C:\\\\Users\\\\HP\\\\AppData\\\\Local\\\\Google\\\\Chrome\\\\User Data\\\\Profile 2\")\n",
    "chrome_options.add_argument(\"--profile-directory=Profile 2\")\n",
    "\n",
    "driver = webdriver.Chrome(service=service, options=chrome_options)\n",
    "\n",
    "# Open WhatsApp Web\n",
    "driver.get(\"https://web.whatsapp.com/\")\n",
    "\n",
    "print(\"✅ Scan QR code and press Enter once logged in.\")\n",
    "input()  # Wait for user confirmation after scanning\n",
    "\n",
    "\n",
    "for index, row in df.iterrows():\n",
    "    phone_number = row[\"Phone Numbers\"]\n",
    "\n",
    "    # Construct WhatsApp Web URL with the message\n",
    "    whatsapp_url = f\"https://web.whatsapp.com/send?phone={phone_number}&text={message}\"\n",
    "    driver.get(whatsapp_url)\n",
    "    \n",
    "    time.sleep(10)  # Wait for the chat to load\n",
    "\n",
    "    try:\n",
    "        send_button = driver.find_element(By.XPATH, '//button[@aria-label=\"Send\"]')\n",
    "        send_button.click()\n",
    "        print(f\"Message sent to {phone_number}\")\n",
    "        \n",
    "    except Exception as e:\n",
    "        print(f\"Failed to send message to {phone_number}: {e}\")\n",
    "\n",
    "    # Wait 20 seconds before sending the next message\n",
    "    time.sleep(20)\n",
    "\n",
    "# Close the browser\n",
    "driver.quit()"
   ]
  },
  {
   "cell_type": "code",
   "execution_count": null,
   "metadata": {},
   "outputs": [],
   "source": []
  }
 ],
 "metadata": {
  "kernelspec": {
   "display_name": "Python 3",
   "language": "python",
   "name": "python3"
  },
  "language_info": {
   "codemirror_mode": {
    "name": "ipython",
    "version": 3
   },
   "file_extension": ".py",
   "mimetype": "text/x-python",
   "name": "python",
   "nbconvert_exporter": "python",
   "pygments_lexer": "ipython3",
   "version": "3.12.1"
  }
 },
 "nbformat": 4,
 "nbformat_minor": 2
}
