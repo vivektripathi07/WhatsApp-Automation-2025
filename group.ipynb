{
 "cells": [
  {
   "cell_type": "code",
   "execution_count": null,
   "metadata": {},
   "outputs": [],
   "source": [
    "import re\n",
    "import pandas as pd\n",
    "\n",
    "# Step 1: Read the HTML file (Replace 'contacts.txt' with your actual file)\n",
    "file_path = \"new.txt\"\n",
    "with open(file_path, \"r\", encoding=\"utf-8\") as file:\n",
    "    html_content = file.read()\n",
    "\n",
    "# Step 2: Improved Regex for Various Phone Number Formats\n",
    "phone_numbers = re.findall(r\"\\+?\\d{1,3}[-.\\s]?\\d{2,5}[-.\\s]?\\d{2,5}[-.\\s]?\\d{3,5}[-.\\s]?\\d{0,5}\", html_content)\n",
    "\n",
    "# Step 3: Filter valid phone numbers (removing unwanted short matches)\n",
    "valid_numbers = []\n",
    "for number in phone_numbers:\n",
    "    cleaned_number = re.sub(r\"[-.\\s]\", \"\", number)  # Remove spaces, dashes, dots\n",
    "    if 10 <= len(cleaned_number) <= 15:  # Ensure valid length (adjustable)\n",
    "        valid_numbers.append(cleaned_number)\n",
    "\n",
    "# Step 4: Remove Duplicates\n",
    "unique_numbers = list(set(valid_numbers))\n",
    "\n",
    "# Step 5: Save Extracted Numbers to CSV\n",
    "df = pd.DataFrame({\"Phone Numbers\": unique_numbers})\n",
    "df.to_csv(\"extracted_contacts.csv\", index=False, encoding=\"utf-8\")\n",
    "\n",
    "# Print Output\n",
    "print(\"✅ Extracted Phone Numbers:\", unique_numbers)\n",
    "print(\"✅ Saved to extracted_contacts.csv\")\n"
   ]
  }
 ],
 "metadata": {
  "kernelspec": {
   "display_name": "Python 3",
   "language": "python",
   "name": "python3"
  },
  "language_info": {
   "codemirror_mode": {
    "name": "ipython",
    "version": 3
   },
   "file_extension": ".py",
   "mimetype": "text/x-python",
   "name": "python",
   "nbconvert_exporter": "python",
   "pygments_lexer": "ipython3",
   "version": "3.12.1"
  }
 },
 "nbformat": 4,
 "nbformat_minor": 2
}
