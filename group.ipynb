{
 "cells": [
  {
   "cell_type": "code",
   "execution_count": 11,
   "metadata": {},
   "outputs": [
    {
     "name": "stdout",
     "output_type": "stream",
     "text": [
      "✅ Extracted Phone Numbers: ['+918126244449', '+917011442674', '+916284354126', '+918433875589', '+918591263060', '+919199009188', '+917842101061', '+918840191634', '+919664549066', '+918697228157', '+918159924133', '+919131938554', '+919137051056', '+917498506810', '+916305656547', '+917972348530', '+917847042932', '+917980226235', '+918308386625', '+918303462299', '+919870335652', '+919601823377', '+919959041634', '+917569100846', '+919304856439', '+919542435120', '+919656759202', '+917007816616', '+919818986960', '+919636434090', '+918115937582', '+917701810065', '+919646736999', '+919390431382', '+919829885038', '+919667110527', '+919412502261', '+917907172485', '+918500308326', '+919967234049', '+918179775642', '+919074946216', '+919545183396', '+917006935960', '+919599475005', '+919646219567', '+916363185775', '+918795013360', '+918625914119', '+918088448386', '+919426801791', '+919831515572', '+919674257140', '+916281625215', '+919290592478', '+919689589355', '+919995588967', '+917013310109', '+919306300165', '+918459439918', '+919557275418', '+917400126049', '+918978343877', '+918788038397', '+917011578058', '+916287668141', '+919920523991', '+919932655687', '+916901461742', '+919861208391', '+917003792267', '+917021922906', '+918266805620', '+916202034560', '+917895448793', '+917907851167', '+916287093666', '+917709411792', '+919755640227', '+918669558572', '+917738661291', '+917588845777', '+917989460661']\n",
      "✅ Saved to extracted_contacts.csv\n"
     ]
    }
   ],
   "source": [
    "import re\n",
    "import pandas as pd\n",
    "\n",
    "# Step 1: Read the HTML file (Replace 'contacts.txt' with your actual file)\n",
    "file_path = \"new.txt\"\n",
    "with open(file_path, \"r\", encoding=\"utf-8\") as file:\n",
    "    html_content = file.read()\n",
    "\n",
    "# Step 2: Improved Regex for Various Phone Number Formats\n",
    "phone_numbers = re.findall(r\"\\+?\\d{1,3}[-.\\s]?\\d{2,5}[-.\\s]?\\d{2,5}[-.\\s]?\\d{3,5}[-.\\s]?\\d{0,5}\", html_content)\n",
    "\n",
    "# Step 3: Filter valid phone numbers (removing unwanted short matches)\n",
    "valid_numbers = []\n",
    "for number in phone_numbers:\n",
    "    cleaned_number = re.sub(r\"[-.\\s]\", \"\", number)  # Remove spaces, dashes, dots\n",
    "    if 10 <= len(cleaned_number) <= 15:  # Ensure valid length (adjustable)\n",
    "        valid_numbers.append(cleaned_number)\n",
    "\n",
    "# Step 4: Remove Duplicates\n",
    "unique_numbers = list(set(valid_numbers))\n",
    "\n",
    "# Step 5: Save Extracted Numbers to CSV\n",
    "df = pd.DataFrame({\"Phone Numbers\": unique_numbers})\n",
    "df.to_csv(\"extracted_contacts.csv\", index=False, encoding=\"utf-8\")\n",
    "\n",
    "# Print Output\n",
    "print(\"✅ Extracted Phone Numbers:\", unique_numbers)\n",
    "print(\"✅ Saved to extracted_contacts.csv\")\n"
   ]
  },
  {
   "cell_type": "code",
   "execution_count": null,
   "metadata": {},
   "outputs": [],
   "source": []
  }
 ],
 "metadata": {
  "kernelspec": {
   "display_name": "Python 3",
   "language": "python",
   "name": "python3"
  },
  "language_info": {
   "codemirror_mode": {
    "name": "ipython",
    "version": 3
   },
   "file_extension": ".py",
   "mimetype": "text/x-python",
   "name": "python",
   "nbconvert_exporter": "python",
   "pygments_lexer": "ipython3",
   "version": "3.12.1"
  }
 },
 "nbformat": 4,
 "nbformat_minor": 2
}
