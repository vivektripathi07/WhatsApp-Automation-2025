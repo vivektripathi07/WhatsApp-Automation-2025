{
 "cells": [
  {
   "cell_type": "code",
   "execution_count": 1,
   "metadata": {},
   "outputs": [
    {
     "name": "stdout",
     "output_type": "stream",
     "text": [
      "✅ Scan QR code and press Enter once logged in.\n",
      "🔍 Found groups: ['GW-A2', \"\\u202aGuys pls be matured and behave yourself n don't edit or copy any topic from others\\u202c\"]\n",
      "✅ Clicked on group: GW-A2\n",
      "🔍 Found 2 possible headers\n",
      "✅ Forced header click via JavaScript!\n",
      "❌ Contact list did not appear, check XPath or increase wait time!\n",
      "🔍 Extracted contacts: ['GW-A2', 'GW-A2', '~\\u202fArun', \"Guys pls be matured and behave yourself n don't edit or copy any topic from others\", 'GW-A2', 'Khoushal, Kiran, +91 98771 99899, +91 99442 42834, +91 8077 309 804, +91 97461 09885, +91 93454 44064, +91 877 894 9142, +91 84017 04504, +91 77806 70623, +91 93537 30784, +91 80961 08084, +91 81261 95454, +91 62385 98561, +91 95034 92042, +91 81226 30290, +91 93566 15810, +91 96658 07043, +91 836 858 1348, +91 78601 53002, +91 98303 76713, +91 89813 95540, +91 70948 53628, +91 84598 94016, +91 7602 077 436, +91 96186 93480, +91 62380 88582, +91 63005 92225, +91 63054 01223, +91 70216 85981, +91 70322 73696, +91 72097 78590, +91 73057 71649, +91 73582 79005, +91 73584 82960, +91 7458 882 265, +91 747 726 9132, +91 7483 633 529, +91 75062 57308, +91 78150 56323, +91 78603 85586, +91 79953 04447, +91 8077 421 515, +91 816 706 0670, +91 83065 78030, +91 84528 07768, +91 85272 75700, +91 86044 43333, +91 86839 16275, +91 883 873 7180, +91 89807 15834, +91 91406 70097, +91 91500 54824, +91 93466 61371, +91 93467 79915, +91 93903 56332, +91 93920 22657, +91 94328 65452, +91 94454 60814, +91 95660 55863, +91 95661 44233, +91 95735 76858, +91 97909 72462, +91 98980 58204, +91 99085 01834, +91 99625 87560, +91 99778 64284, You', 'YESTERDAY', 'Arun', 'Students pls do the needful for the Digital Assignment. Avoid AI tools for the assignment. The deadline for the sumission of the DA (1,2,3) is  March 30', 'No group project is allowed', 'it will be individual', 'if u need to go for group project meet me with the topic that is worth doing as group', 'The DA must be submitted in word file in MOODLE', 'Arun', 'For any clarification u can message me or discuss with me', 'Khoushal', 'Sir, I am unable to access the spreadsheet', 'Mithunraj', 'Khoushal', 'Sir, I am unable to access the spreadsheet', '+1', 'Arun', 'Dear Students, You are requested to create a report for 15000 words on the case studies by different countries on global warming and climate change. It can be the research model. The report must contain the all the necessary data, facts and figures. Simple theoretical content will not be accepted as digital assignment.\\nFew examples for the topics are given below for your references but not limited to the below topic.\\n\\nClimate Modeling Simulation: \\nIoT-Based Environmental Monitoring: \\nRenewable Energy Solutions: \\nCarbon Footprint Calculator: \\nVirtual Reality (VR) Experience: \\nPolicy Analysis: \\nMachine Learning for Climate Prediction: \\nInteractive Climate Change Game: \\nLife Cycle Assessment (LCA): \\nAugmented Reality (AR) Visualization: \\n\\nThe spreadsheet link i', 'Sir can you please extend the deadline to Sunday', 'Khoushal', 'Sir, I am unable to access the spreadsheet', 'https://docs.google.com/spreadsheets/d/1kO9nOC28IGAEVqsrGp8_nmc51zhTuuJNeFHumrHctaI/edit?usp=sharing', 'Sir can you please extend the deadline to Sunday', 'Yes sir please', 'Sir can you please extend the deadline to Sunday', 'Yes sir', 'Sir can you please extend the deadline to Sunday', 'yes sir', 'GW-A2', 'Group · 68 members', 'Group', 'You', 'Available', '~\\u202fMadhuramsinh', 'Happy soul', '+91 84017 04504', '~\\u202fKarnesh', '+91 877 894 9142', '~\\u202fHariharan', '.... .- .-. .. .... .- .-. .- -.', '+91 93454 44064', '~\\u202fGhoose', '+91 97461 09885', '~\\u202fEmir', '\"You see , in their last moments, people show you who they really are...\"', '+91 8077 309 804', '~\\u202fAkash R', '+91 98771 99899', 'Kiran', 'Khoushal', 'Available', '~\\u202fArun', '+91 99442 42834']\n",
      "✅ Contacts saved to whatsapp_contacts.csv\n"
     ]
    }
   ],
   "source": [
    "from selenium import webdriver\n",
    "from selenium.webdriver.common.by import By\n",
    "from selenium.webdriver.support.ui import WebDriverWait\n",
    "from selenium.webdriver.support import expected_conditions as EC\n",
    "from selenium.webdriver.chrome.service import Service\n",
    "from selenium.webdriver.chrome.options import Options\n",
    "from webdriver_manager.chrome import ChromeDriverManager\n",
    "import pandas as pd\n",
    "import time\n",
    "\n",
    "# Initialize WebDriver\n",
    "service = Service(ChromeDriverManager().install())\n",
    "\n",
    "\n",
    "#Run this command on \"run\", (Win + R), %LOCALAPPDATA%\\Google\\Chrome\\User Data\n",
    "\n",
    "chrome_options = Options()\n",
    "chrome_options.add_argument(\"--user-data-dir=C:\\\\Users\\\\HP\\\\AppData\\\\Local\\\\Google\\\\Chrome\\\\User Data\\\\Profile 2\")\n",
    "chrome_options.add_argument(\"--profile-directory=Profile 2\")\n",
    "\n",
    "driver = webdriver.Chrome(service=service, options=chrome_options)\n",
    "driver.get(\"https://web.whatsapp.com/\")\n",
    "print(\"✅ Scan QR code and press Enter once logged in.\")\n",
    "input()  # Wait for user confirmation after scanning\n",
    "\n",
    "# Search for the group\n",
    "group_name = input(\"Enter group name\") # Change this to your group\n",
    "search_box = WebDriverWait(driver, 20).until(\n",
    "    EC.presence_of_element_located((By.XPATH, \"//p[contains(@class, 'selectable-text copyable-text')]\"))\n",
    ")\n",
    "search_box.click()\n",
    "search_box.send_keys(group_name)\n",
    "\n",
    "# Wait for search results to appear\n",
    "time.sleep(3)  # Allow UI rendering\n",
    "search_results = WebDriverWait(driver, 10).until(\n",
    "    EC.presence_of_all_elements_located((By.XPATH, \"//span[@title]\"))\n",
    ")\n",
    "\n",
    "# Debugging: Print all found search results\n",
    "found_groups = [result.get_attribute(\"title\").strip() for result in search_results if result.get_attribute(\"title\")]\n",
    "print(\"🔍 Found groups:\", found_groups)\n",
    "\n",
    "# Locate the correct group and click it\n",
    "group_clicked = False\n",
    "for result in search_results:\n",
    "    if result.get_attribute(\"title\").strip() == group_name:\n",
    "        try:\n",
    "            driver.execute_script(\"arguments[0].scrollIntoView();\", result)  # Scroll into view\n",
    "            time.sleep(1)  # Allow UI to adjust\n",
    "            result.click()  # Normal Click\n",
    "            print(f\"✅ Clicked on group: {group_name}\")\n",
    "            group_clicked = True\n",
    "            break\n",
    "        except:\n",
    "            print(\"❌ Normal click failed, trying JavaScript click...\")\n",
    "            driver.execute_script(\"arguments[0].click();\", result)  # JS Click\n",
    "            print(f\"✅ Clicked via JavaScript: {group_name}\")\n",
    "            group_clicked = True\n",
    "            break\n",
    "\n",
    "if not group_clicked:\n",
    "    print(\"❌ Group not found or could not be clicked!\")\n",
    "    driver.quit()\n",
    "    exit()\n",
    "\n",
    "# Allow chat to fully open\n",
    "time.sleep(2)\n",
    "\n",
    "# Find all potential headers and force-click one\n",
    "try:\n",
    "    all_headers = driver.find_elements(By.XPATH, \"//header//span[contains(@class, '_ao3e')]\")\n",
    "    print(f\"🔍 Found {len(all_headers)} possible headers\")\n",
    "    \n",
    "    for header in all_headers:\n",
    "        driver.execute_script(\"arguments[0].scrollIntoView();\", header)\n",
    "        time.sleep(1)  # Allow UI to adjust\n",
    "        driver.execute_script(\"arguments[0].click();\", header)\n",
    "        print(\"✅ Forced header click via JavaScript!\")\n",
    "        break  # Stop after clicking one\n",
    "\n",
    "except Exception as e:\n",
    "    print(f\"❌ Failed to click group header: {e}\")\n",
    "\n",
    "# Wait for the contact list to be fully loaded\n",
    "try:\n",
    "    WebDriverWait(driver, 10).until(\n",
    "        EC.presence_of_element_located((By.XPATH, \"//div[contains(@class, '_3j691')]\"))  # Adjust if necessary\n",
    "    )\n",
    "    time.sleep(2)  # Allow UI to fully load\n",
    "    print(\"✅ Contact list is visible!\")\n",
    "except:\n",
    "    print(\"❌ Contact list did not appear, check XPath or increase wait time!\")\n",
    "\n",
    "# Extract contacts\n",
    "contacts = driver.find_elements(By.XPATH, \"//span[contains(@class, '_ao3e')]\")  # Adjust based on HTML\n",
    "contact_list = [contact.text.strip() for contact in contacts if contact.text.strip()]\n",
    "\n",
    "# Debugging: Print all extracted contacts\n",
    "print(\"🔍 Extracted contacts:\", contact_list)\n",
    "\n",
    "# Save to CSV only if contacts are found\n",
    "if contact_list:\n",
    "    df = pd.DataFrame({'Contacts': contact_list})\n",
    "    df.to_csv('whatsapp_contacts.csv', index=False, encoding='utf-8')\n",
    "    print(\"✅ Contacts saved to whatsapp_contacts.csv\")\n",
    "else:\n",
    "    print(\"❌ No contacts found. Ensure the group list is visible before extracting.\")\n",
    "\n",
    "# Keep the browser open for debugging\n",
    "input(\"🔎 Press Enter to close the browser after checking the results...\")\n",
    "\n",
    "driver.quit()\n"
   ]
  },
  {
   "cell_type": "code",
   "execution_count": 2,
   "metadata": {},
   "outputs": [],
   "source": [
    "df = pd.read_csv(\"whatsapp_contacts.csv\", header=None)"
   ]
  },
  {
   "cell_type": "code",
   "execution_count": 4,
   "metadata": {},
   "outputs": [
    {
     "name": "stdout",
     "output_type": "stream",
     "text": [
      "Extracted 65 unique phone numbers and saved to 'extracted_numbers_test1.csv'\n"
     ]
    },
    {
     "name": "stderr",
     "output_type": "stream",
     "text": [
      "C:\\Users\\HP\\AppData\\Local\\Temp\\ipykernel_25440\\3573712710.py:8: FutureWarning: DataFrame.applymap has been deprecated. Use DataFrame.map instead.\n",
      "  phone_numbers = df.applymap(extract_phone_numbers).values.flatten()\n"
     ]
    }
   ],
   "source": [
    "import re\n",
    "def extract_phone_numbers(text):\n",
    "    if pd.isna(text):  # Skip NaN values\n",
    "        return None\n",
    "    return re.findall(r\"\\+?\\d{1,3}[-.\\s]?\\d{2,5}[-.\\s]?\\d{2,5}[-.\\s]?\\d{3,5}[-.\\s]?\\d{0,5}\", str(text)) # Adjust regex as per your phone number format\n",
    "\n",
    "# Apply extraction function\n",
    "phone_numbers = df.applymap(extract_phone_numbers).values.flatten()\n",
    "\n",
    "# Flatten and remove duplicates\n",
    "unique_numbers = sorted(set(num for sublist in phone_numbers if sublist for num in sublist))\n",
    "\n",
    "# Save to CSV\n",
    "output_df = pd.DataFrame(unique_numbers, columns=[\"Phone Numbers\"])\n",
    "output_df.to_csv(\"extracted_numbers_test1.csv\", index=False)\n",
    "\n",
    "print(f\"Extracted {len(unique_numbers)} unique phone numbers and saved to 'extracted_numbers_test1.csv'\")"
   ]
  },
  {
   "cell_type": "code",
   "execution_count": null,
   "metadata": {},
   "outputs": [],
   "source": []
  }
 ],
 "metadata": {
  "kernelspec": {
   "display_name": "Python 3",
   "language": "python",
   "name": "python3"
  },
  "language_info": {
   "codemirror_mode": {
    "name": "ipython",
    "version": 3
   },
   "file_extension": ".py",
   "mimetype": "text/x-python",
   "name": "python",
   "nbconvert_exporter": "python",
   "pygments_lexer": "ipython3",
   "version": "3.12.1"
  }
 },
 "nbformat": 4,
 "nbformat_minor": 2
}
